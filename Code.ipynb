{
 "cells": [
  {
   "cell_type": "code",
   "execution_count": 1,
   "metadata": {
    "collapsed": true
   },
   "outputs": [],
   "source": [
    "from selenium import webdriver\n",
    "import time\n",
    "import urllib.request\n",
    "from bs4 import BeautifulSoup\n",
    "import html.parser"
   ]
  },
  {
   "cell_type": "code",
   "execution_count": 3,
   "metadata": {},
   "outputs": [
    {
     "name": "stdout",
     "output_type": "stream",
     "text": [
      "page0\n",
      "page1\n",
      "page2\n",
      "page3\n",
      "page4\n",
      "Store raw data successfully!!!\n",
      "Store noscript meta data successfully!!!\n",
      "Store meta data and images successfully!!!\n"
     ]
    }
   ],
   "source": [
    "def main():\n",
    "    # *********  Open chrome driver and type the website that you want to view ***********************\n",
    "\n",
    "    driver = webdriver.Chrome()   # 打开浏览器\n",
    "\n",
    "    # 列出来你想要下载图片的网站\n",
    "\n",
    "    # driver.get(\"https://www.zhihu.com/question/35931586\") # 你的日常搭配是什么样子？\n",
    "    # driver.get(\"https://www.zhihu.com/question/61235373\") # 女生腿好看胸平是一种什么体验？\n",
    "    # driver.get(\"https://www.zhihu.com/question/28481779\") # 腿长是一种什么体验？\n",
    "    # driver.get(\"https://www.zhihu.com/question/19671417\") # 拍照时怎样摆姿势好看？\n",
    "    # driver.get(\"https://www.zhihu.com/question/20196263\") # 女性胸部过大会有哪些困扰与不便？\n",
    "    # driver.get(\"https://www.zhihu.com/question/46458423\") # 短发女孩要怎么拍照才性感？\n",
    "    driver.get(\"https://www.zhihu.com/question/26037846\") # 身材好是一种怎样的体验？\n",
    "\n",
    "# ****************** Scroll to the bottom, and click the \"view more\" button *********\n",
    "    def execute_times(times):\n",
    "\n",
    "        for i in range(times):\n",
    "            driver.execute_script(\"window.scrollTo(0, document.body.scrollHeight);\") # 滑动到浏览器底部\n",
    "            time.sleep(2) # 等待页面加载\n",
    "            try:\n",
    "                driver.find_element_by_css_selector('button.QuestionMainAction').click() # 选中并点击页面底部的加载更多\n",
    "                print(\"page\" + str(i)) # 输出页面页数\n",
    "                time.sleep(1) # 等待页面加载\n",
    "            except:\n",
    "                break\n",
    "\n",
    "    execute_times(5) # 注意身体，五个页面够了的(微笑)\n",
    "\n",
    "    # ****************   Prettify the html file and store raw data file  *****************************************\n",
    "    result_raw = driver.page_source # 这是原网页 HTML 信息\n",
    "    result_soup = BeautifulSoup(result_raw, 'html.parser')\n",
    "    \n",
    "    result_bf = result_soup.prettify() # 结构化原 HTML 文件\n",
    "    \n",
    "    with open(\"C:/output/rawfile/raw_result.txt\", 'w',encoding='utf-8') as girls: # 存储路径里的文件夹需要事先创建。\n",
    "        girls.write(result_bf)\n",
    "    girls.close()\n",
    "    print(\"Store raw data successfully!!!\")\n",
    "    \n",
    "    # ****************   Find all <nonscript> nodes and store them   *****************************************\n",
    "    with open(\"C:/output/rawfile/noscript_meta.txt\", 'w',encoding='utf-8') as noscript_meta: # 存储路径里的文件夹需要事先创建。\n",
    "        noscript_nodes = result_soup.find_all('noscript') # 找到所有<noscript>node\n",
    "        noscript_inner_all = \"\"\n",
    "        for noscript in noscript_nodes:\n",
    "            noscript_inner = noscript.get_text() # 获取<noscript>node内部内容\n",
    "            noscript_inner_all += noscript_inner + \"\\n\"\n",
    "    \n",
    "        noscript_all = html.parser.unescape(noscript_inner_all) #  将内部内容转码并存储\n",
    "        noscript_meta.write(noscript_all)\n",
    "    \n",
    "    noscript_meta.close()\n",
    "    print(\"Store noscript meta data successfully!!!\")\n",
    "     \n",
    "    # ****************   Store meta data of imgs  *****************************************\n",
    "    img_soup = BeautifulSoup(noscript_all, 'html.parser')\n",
    "    img_nodes = img_soup.find_all('img')\n",
    "    with open(\"C:/output/rawfile/img_meta.txt\", 'w',encoding='utf-8') as img_meta:\n",
    "        count = 0\n",
    "        for img in img_nodes:\n",
    "            if img.get('src') is not None:\n",
    "                img_url = img.get('src')\n",
    "    \n",
    "                line = str(count) + \"\\t\" + img_url  + \"\\n\"\n",
    "                img_meta.write(line)\n",
    "                urllib.request.urlretrieve(img_url, \"C:/output/image/\" + str(count) + \".jpg\") # 一个一个下载图片\n",
    "                count += 1\n",
    "    \n",
    "    img_meta.close()\n",
    "    print(\"Store meta data and images successfully!!!\")\n",
    "\n",
    "if __name__ == '__main__':\n",
    "    main()"
   ]
  },
  {
   "cell_type": "code",
   "execution_count": null,
   "metadata": {
    "collapsed": true
   },
   "outputs": [],
   "source": []
  }
 ],
 "metadata": {
  "kernelspec": {
   "display_name": "Python 3",
   "language": "python",
   "name": "python3"
  },
  "language_info": {
   "codemirror_mode": {
    "name": "ipython",
    "version": 3
   },
   "file_extension": ".py",
   "mimetype": "text/x-python",
   "name": "python",
   "nbconvert_exporter": "python",
   "pygments_lexer": "ipython3",
   "version": "3.6.1"
  }
 },
 "nbformat": 4,
 "nbformat_minor": 2
}
